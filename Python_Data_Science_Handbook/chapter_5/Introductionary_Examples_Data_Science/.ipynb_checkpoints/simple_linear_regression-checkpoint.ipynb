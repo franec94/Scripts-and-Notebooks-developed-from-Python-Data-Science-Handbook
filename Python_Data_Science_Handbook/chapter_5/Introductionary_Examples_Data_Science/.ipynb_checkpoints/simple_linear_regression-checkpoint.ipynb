{
 "cells": [
  {
   "cell_type": "code",
   "execution_count": 11,
   "metadata": {},
   "outputs": [],
   "source": [
    "# Magic statements.\n",
    "%matplotlib inline\n",
    "\n",
    "# Import graph libraries.\n",
    "import matplotlib.pyplot as plt\n",
    "\n",
    "# Import main modules, packages, and third party libraries.\n",
    "import numpy as np\n",
    "import pandas as pd\n",
    "import seaborn as sns; sns.set()\n",
    "\n",
    "\n",
    "# Import scikit-learn classes: preprocessing step utility functions\n",
    "from sklearn.cross_validation import train_test_split\n",
    "\n",
    "# Import scikit-learn classes: models\n",
    "from sklearn.naive_bayes import GaussianNB\n",
    "from sklearn.linear_model import LinearRegression"
   ]
  },
  {
   "cell_type": "code",
   "execution_count": 2,
   "metadata": {},
   "outputs": [],
   "source": [
    "# Global starting variables.\n",
    "seed = 42\n",
    "n = 50\n",
    "\n",
    "# Instantiate, or create, a random generator object.\n",
    "rng = np.random.RandomState(seed=seed)"
   ]
  },
  {
   "cell_type": "code",
   "execution_count": 3,
   "metadata": {},
   "outputs": [
    {
     "name": "stdout",
     "output_type": "stream",
     "text": [
      "x type: <class 'numpy.ndarray'>\n",
      "x shape: (50,)\n",
      "y type: <class 'numpy.ndarray'>\n",
      "y shape: (50,)\n"
     ]
    }
   ],
   "source": [
    "# Create dummy data toy data.\n",
    "x = 10 * rng.rand(n)\n",
    "y = 2 * x - 1 * rng.rand(n)\n",
    "\n",
    "# Show information about dummy data toy data.\n",
    "print('x type:', type(x))\n",
    "print('x shape:', x.shape)\n",
    "\n",
    "print('y type:', type(y))\n",
    "print('y shape:', y.shape)"
   ]
  },
  {
   "cell_type": "code",
   "execution_count": 4,
   "metadata": {},
   "outputs": [
    {
     "data": {
      "text/plain": [
       "<matplotlib.collections.PathCollection at 0x7fd5b5494dd8>"
      ]
     },
     "execution_count": 4,
     "metadata": {},
     "output_type": "execute_result"
    },
    {
     "data": {
      "image/png": "[encoded data removed]",
      "text/plain": [
       "<Figure size 432x288 with 1 Axes>"
      ]
     },
     "metadata": {
      "needs_background": "light"
     },
     "output_type": "display_data"
    }
   ],
   "source": [
    "# Plot scatter graph about data x, y produce earlier.\n",
    "plt.scatter(x, y)"
   ]
  },
  {
   "cell_type": "code",
   "execution_count": 5,
   "metadata": {},
   "outputs": [],
   "source": [
    "# Instantiate a LinearRegression object\n",
    "# in particular, specifing among its own input parameters\n",
    "# that we what to fit for the intercept, by\n",
    "# setting to True value the 'fit_intercept' input parameter to the constructor.\n",
    "\n",
    "model = LinearRegression(fit_intercept=True)"
   ]
  },
  {
   "cell_type": "code",
   "execution_count": 6,
   "metadata": {},
   "outputs": [
    {
     "name": "stdout",
     "output_type": "stream",
     "text": [
      "X type: <class 'numpy.ndarray'>\n",
      "X shape: (50, 1)\n"
     ]
    }
   ],
   "source": [
    "# 3. Arrange data into feature matrix and target vector.\n",
    "\n",
    "X = x[:, np.newaxis]\n",
    "\n",
    "# Show information about dummy data, toy data X, created from input data, initial data x.\n",
    "print('X type:', type(X))\n",
    "print('X shape:', X.shape)"
   ]
  },
  {
   "cell_type": "code",
   "execution_count": 7,
   "metadata": {},
   "outputs": [
    {
     "data": {
      "text/plain": [
       "LinearRegression(copy_X=True, fit_intercept=True, n_jobs=None, normalize=False)"
      ]
     },
     "execution_count": 7,
     "metadata": {},
     "output_type": "execute_result"
    }
   ],
   "source": [
    "# 4. Fit the model to our data.\n",
    "\n",
    "# Fitting, (or, learning, training) a linear regression model,\n",
    "# applying it onto our input data X, y the former in the\n",
    "# form of a two-dimensional feature matrix, and the latter\n",
    "# in the shape of a one-dimensional target (or, label) array.\n",
    "\n",
    "model.fit(X, y)"
   ]
  },
  {
   "cell_type": "code",
   "execution_count": 8,
   "metadata": {},
   "outputs": [
    {
     "name": "stdout",
     "output_type": "stream",
     "text": [
      "Linear regression' coeff, type:  <class 'numpy.ndarray'>\n",
      "Linear regression' coeff, numbers:  1\n",
      "Linear regression' coeff, values:  [1.99339234]\n",
      "Linear regression' intercept:  -0.46497242492000623\n"
     ]
    }
   ],
   "source": [
    "# Explore trained (or, learned) model's parameters.\n",
    "print('Linear regression\\' coeff, type: ', type(model.coef_))\n",
    "print('Linear regression\\' coeff, numbers: ', len(model.coef_))\n",
    "print('Linear regression\\' coeff, values: ', model.coef_)\n",
    "print('Linear regression\\' intercept: ', model.intercept_)"
   ]
  },
  {
   "cell_type": "code",
   "execution_count": 9,
   "metadata": {},
   "outputs": [],
   "source": [
    "# 5. Predict labels for unknown data points.\n",
    "\n",
    "xfit = np.linspace(-1, 11)\n",
    "xfit = xfit[:, np.newaxis]\n",
    "\n",
    "yfit = model.predict(xfit)"
   ]
  },
  {
   "cell_type": "code",
   "execution_count": 10,
   "metadata": {},
   "outputs": [
    {
     "data": {
      "text/plain": [
       "[<matplotlib.lines.Line2D at 0x7fd5b5458908>]"
      ]
     },
     "execution_count": 10,
     "metadata": {},
     "output_type": "execute_result"
    },
    {
     "data": {
      "image/png": "[encoded data removed]",
      "text/plain": [
       "<Figure size 432x288 with 1 Axes>"
      ]
     },
     "metadata": {
      "needs_background": "light"
     },
     "output_type": "display_data"
    }
   ],
   "source": [
    "plt.scatter(x, y)\n",
    "plt.plot(xfit, yfit)"
   ]
  },
  {
   "cell_type": "code",
   "execution_count": null,
   "metadata": {},
   "outputs": [],
   "source": []
  }
 ],
 "metadata": {
  "kernelspec": {
   "display_name": "Python 3",
   "language": "python",
   "name": "python3"
  },
  "language_info": {
   "codemirror_mode": {
    "name": "ipython",
    "version": 3
   },
   "file_extension": ".py",
   "mimetype": "text/x-python",
   "name": "python",
   "nbconvert_exporter": "python",
   "pygments_lexer": "ipython3",
   "version": "3.7.3"
  }
 },
 "nbformat": 4,
 "nbformat_minor": 2
}
