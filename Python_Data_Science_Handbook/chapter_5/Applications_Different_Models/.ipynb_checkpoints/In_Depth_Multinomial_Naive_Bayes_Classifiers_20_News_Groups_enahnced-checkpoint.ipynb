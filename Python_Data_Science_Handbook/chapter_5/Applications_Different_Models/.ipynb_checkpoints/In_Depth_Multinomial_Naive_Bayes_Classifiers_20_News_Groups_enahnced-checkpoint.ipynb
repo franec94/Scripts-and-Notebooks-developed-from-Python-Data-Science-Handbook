{
 "cells": [
  {
   "cell_type": "markdown",
   "metadata": {
    "colab_type": "text",
    "id": "syNqZNFHLc-E"
   },
   "source": [
    "# In Depth Multinomial Naive Bayes Classifiers 20 News Groups"
   ]
  },
  {
   "cell_type": "markdown",
   "metadata": {
    "colab_type": "text",
    "id": "f_w-g_8JLc-J"
   },
   "source": [
    "#### Import Libraries(Python's built-in modules, third party libraries, packages)"
   ]
  },
  {
   "cell_type": "code",
   "execution_count": 0,
   "metadata": {
    "colab": {},
    "colab_type": "code",
    "id": "i5D5vcmILc-N"
   },
   "outputs": [],
   "source": [
    "# Magic statements.\n",
    "%matplotlib inline\n",
    "\n",
    "import warnings\n",
    "warnings.filterwarnings('ignore')\n",
    "warnings.simplefilter('ignore')\n",
    "\n",
    "from pprint import pprint\n",
    "import time\n",
    "\n",
    "# Import graph libraries.\n",
    "import matplotlib.pyplot as plt\n",
    "from matplotlib.ticker import MultipleLocator, AutoMinorLocator\n",
    "\n",
    "# Import main modules, packages, and third party libraries.\n",
    "import numpy as np; from numpy import nan\n",
    "import pandas as pd\n",
    "import seaborn as sns; sns.set()\n",
    "\n",
    "# Import scikit-learn classes: datasets.\n",
    "from sklearn.datasets import fetch_20newsgroups\n",
    "from sklearn.datasets import load_digits\n",
    "from sklearn.datasets import load_iris\n",
    "\n",
    "# Import scikit-learn classes: preprocessing step utility functions.\n",
    "from sklearn.model_selection import train_test_split\n",
    "from sklearn.decomposition import TruncatedSVD\n",
    "from sklearn.decomposition import PCA                # Unsupervised Machine Learning tasks: feature reduction, dimensionality reduction\n",
    "from sklearn.mixture import GaussianMixture          # Unsupervised Machine Learning tasks: clustering\n",
    "from sklearn.manifold import Isomap                  # Unsupervised Machine Learning tasks: feature reduction, dimensionality reduction\n",
    "\n",
    "# Import scikit-learn classes: models (Estimators).\n",
    "from sklearn.naive_bayes import GaussianNB\n",
    "from sklearn.naive_bayes import MultinomialNB\n",
    "from sklearn.linear_model import LinearRegression\n",
    "from sklearn.linear_model import LogisticRegression\n",
    "from sklearn.linear_model import Ridge\n",
    "\n",
    "# Import scikit-learn classes: preprocessing.\n",
    "from sklearn.preprocessing import PolynomialFeatures\n",
    "# from sklearn.preprocessing import Imputer\n",
    "from sklearn.pipeline import make_pipeline\n",
    "from sklearn.utils import shuffle\n",
    "\n",
    "from sklearn.neighbors import KNeighborsClassifier\n",
    "\n",
    "# Import scikit-learn classes: Hyperparameters Validation utility functions.\n",
    "from sklearn.model_selection import cross_val_score\n",
    "from sklearn.model_selection import LeavePOut\n",
    "from sklearn.model_selection import LeaveOneOut\n",
    "\n",
    "from sklearn.model_selection import StratifiedKFold\n",
    "from sklearn.model_selection import StratifiedShuffleSplit\n",
    "from sklearn.model_selection import GridSearchCV\n",
    "from sklearn.model_selection import KFold\n",
    "\n",
    "# Import scikit-learn classes: model's evaluation step utility functions.\n",
    "from sklearn.metrics import accuracy_score \n",
    "from sklearn.metrics import confusion_matrix"
   ]
  },
  {
   "cell_type": "code",
   "execution_count": 0,
   "metadata": {
    "colab": {},
    "colab_type": "code",
    "id": "tilRB9lyLc-i"
   },
   "outputs": [],
   "source": [
    "from sklearn.feature_extraction import DictVectorizer\n",
    "from sklearn.feature_selection import SelectKBest, chi2\n",
    "\n",
    "from sklearn.feature_extraction.text import TfidfVectorizer, CountVectorizer\n",
    "from sklearn.decomposition import NMF, LatentDirichletAllocation"
   ]
  },
  {
   "cell_type": "code",
   "execution_count": 0,
   "metadata": {
    "colab": {},
    "colab_type": "code",
    "id": "mKbVZcY_Lc-v"
   },
   "outputs": [],
   "source": [
    "# Global starting variables.\n",
    "seed = 42\n",
    "random_state = 1\n",
    "np.random.seed(seed=None)\n",
    "\n",
    "# Instantiate, or create, a random generator object.\n",
    "rng = np.random.RandomState(seed=seed)"
   ]
  },
  {
   "cell_type": "markdown",
   "metadata": {
    "colab_type": "text",
    "id": "iXqXN753PCl0"
   },
   "source": [
    "#### Functions"
   ]
  },
  {
   "cell_type": "code",
   "execution_count": 0,
   "metadata": {
    "colab": {},
    "colab_type": "code",
    "id": "_-A1Fl9yLdA1"
   },
   "outputs": [],
   "source": [
    "def run_pipeline(model, train, test, random_state=0, cv=None):\n",
    "    \n",
    "    print('[*] Running pipeline...')\n",
    "    \n",
    "    Xtrain, ytrain = train.data, train.target\n",
    "    Xtrain, ytrain = shuffle(Xtrain, ytrain, random_state=random_state)\n",
    "\n",
    "    Xtest, ytest = test.data, test.target\n",
    "    Xtest, ytest = shuffle(Xtest, ytest, random_state=random_state)\n",
    "    if cv is not None:\n",
    "        print('[*] CV running...')\n",
    "        scores = cross_val_score(model, Xtrain, ytrain , cv=cv)\n",
    "        print(scores)\n",
    "        print(scores.mean())\n",
    "        print('[*] CV done.')\n",
    "    \n",
    "    model.fit(Xtrain, ytrain)\n",
    "    labels = model.predict(Xtest)\n",
    "    \n",
    "    mat = confusion_matrix(ytest, labels)\n",
    "    sns.heatmap(mat.T, square=True,\n",
    "           annot=True, fmt='d',\n",
    "           cbar=False,\n",
    "           xticklabels=train.target_names, yticklabels=train.target_names, )\n",
    "    plt.xlabel('true label')\n",
    "    plt.ylabel('predicted label')\n",
    "    \n",
    "    def predict_category(s, train=train, model=model):\n",
    "        pred = model.predict([s])\n",
    "        \n",
    "        return ', '.join([ str(pred), str(train.target_names[pred[0]]) ])\n",
    "    \n",
    "    print('K-Neighbors Classifier accuracy score:', accuracy_score(ytest, labels))\n",
    "    print(f\"K-Neighbors Classifier accuracy score (percentage): {accuracy_score(ytest, labels)*100:.2f}%\")\n",
    "    \n",
    "    print(predict_category('sending a payload to the ISS'))\n",
    "    print(predict_category('discussing islam versus atheism'))\n",
    "    print(predict_category('determinig screen resolution and size'))\n",
    "    \n",
    "    print('[*] Pipeline done.')\n",
    "    return model"
   ]
  },
  {
   "cell_type": "code",
   "execution_count": 0,
   "metadata": {
    "colab": {},
    "colab_type": "code",
    "id": "lyRHUo13PB4E"
   },
   "outputs": [],
   "source": [
    "def inner_vs_outer_cv(\n",
    "    clf,\n",
    "    train,\n",
    "    param_grid=None,\n",
    "    test=None,\n",
    "    num_trials=30,\n",
    "    random_state=0,\n",
    "    verbose=0):\n",
    "    \n",
    "    print('[*] inner_vs_outer_cv running...')\n",
    "    Xtrain, ytrain = train.data, train.target\n",
    "    Xtrain, ytrain = shuffle(Xtrain, ytrain, random_state=random_state)\n",
    "    \n",
    "    if test is not None:\n",
    "        Xtest, ytest = test.data, test.target\n",
    "        Xtest, ytest = shuffle(Xtest, ytest, random_state=random_state)\n",
    "\n",
    "    # Arrays to store scores\n",
    "    non_nested_scores = np.zeros(num_trials)\n",
    "    nested_scores = np.zeros(num_trials)\n",
    "\n",
    "    # Loop for each trial\n",
    "    for i in range(num_trials):\n",
    "        # Choose cross-validation techniques for the inner and outer loops,\n",
    "        # independently of the dataset.\n",
    "        # E.g \"GroupKFold\", \"LeaveOneOut\", \"LeaveOneGroupOut\", etc.\n",
    "        inner_cv = KFold(n_splits=4, shuffle=True, random_state=i)\n",
    "        outer_cv = KFold(n_splits=4, shuffle=True, random_state=i)\n",
    "\n",
    "        # Non_nested parameter search and scoring\n",
    "        clf = GridSearchCV(estimator=lrm, param_grid=param_grid, cv=inner_cv)\n",
    "        clf.fit(Xtrain, ytrain)\n",
    "        non_nested_scores[i] = clf.best_score_\n",
    "\n",
    "        # Nested CV with parameter optimization\n",
    "        nested_score = cross_val_score(clf, X=Xtrain, y=ytrain, cv=outer_cv)\n",
    "        nested_scores[i] = nested_score.mean()\n",
    "\n",
    "    score_difference = non_nested_scores - nested_scores\n",
    "\n",
    "    print(\"Average difference of {:6f} with std. dev. of {:6f}.\"\n",
    "        .format(score_difference.mean(), score_difference.std()))\n",
    "\n",
    "    # Plot scores on each trial for nested and non-nested CV\n",
    "    plt.figure()\n",
    "    plt.subplot(211)\n",
    "    non_nested_scores_line, = plt.plot(non_nested_scores, color='r')\n",
    "    nested_line, = plt.plot(nested_scores, color='b')\n",
    "    plt.ylabel(\"score\", fontsize=\"14\")\n",
    "    plt.legend([non_nested_scores_line, nested_line],\n",
    "             [\"Non-Nested CV\", \"Nested CV\"],\n",
    "            bbox_to_anchor=(0, .4, .5, 0))\n",
    "    plt.title(\"Non-Nested and Nested Cross Validation on Iris Dataset\",\n",
    "            x=.5, y=1.1, fontsize=\"15\")\n",
    "\n",
    "    # Plot bar chart of the difference.\n",
    "    plt.subplot(212)\n",
    "    difference_plot = plt.bar(range(NUM_TRIALS), score_difference)\n",
    "    plt.xlabel(\"Individual Trial #\")\n",
    "    plt.legend([difference_plot],\n",
    "           [\"Non-Nested CV - Nested CV Score\"],\n",
    "           bbox_to_anchor=(0, 1, .8, 0))\n",
    "    plt.ylabel(\"score difference\", fontsize=\"14\")\n",
    "\n",
    "    plt.show()\n",
    "\n",
    "    print('[*] inner_vs_outer_cv done.')\n",
    "    pass"
   ]
  },
  {
   "cell_type": "markdown",
   "metadata": {
    "colab_type": "text",
    "id": "AXQGTeqqLc-8"
   },
   "source": [
    "#### Load 20-News Groups Dataset"
   ]
  },
  {
   "cell_type": "code",
   "execution_count": 5,
   "metadata": {
    "colab": {
     "base_uri": "https://localhost:8080/",
     "height": 399
    },
    "colab_type": "code",
    "id": "jAXkwvk8Lc--",
    "outputId": "97aea803-984b-4f3e-c504-39b995da6c5a"
   },
   "outputs": [
    {
     "name": "stderr",
     "output_type": "stream",
     "text": [
      "Downloading 20news dataset. This may take a few minutes.\n",
      "Downloading dataset from https://ndownloader.figshare.com/files/5975967 (14 MB)\n"
     ]
    },
    {
     "name": "stdout",
     "output_type": "stream",
     "text": [
      "['alt.atheism',\n",
      " 'comp.graphics',\n",
      " 'comp.os.ms-windows.misc',\n",
      " 'comp.sys.ibm.pc.hardware',\n",
      " 'comp.sys.mac.hardware',\n",
      " 'comp.windows.x',\n",
      " 'misc.forsale',\n",
      " 'rec.autos',\n",
      " 'rec.motorcycles',\n",
      " 'rec.sport.baseball',\n",
      " 'rec.sport.hockey',\n",
      " 'sci.crypt',\n",
      " 'sci.electronics',\n",
      " 'sci.med',\n",
      " 'sci.space',\n",
      " 'soc.religion.christian',\n",
      " 'talk.politics.guns',\n",
      " 'talk.politics.mideast',\n",
      " 'talk.politics.misc',\n",
      " 'talk.religion.misc']\n"
     ]
    }
   ],
   "source": [
    "categories = [\n",
    "    'talk.religion.misc',\n",
    "    'soc.religion.christian',\n",
    "    'sci.space',\n",
    "    'comp.graphics',\n",
    "]\n",
    "\n",
    "train = fetch_20newsgroups(subset='train', categories=categories)\n",
    "test = fetch_20newsgroups(subset='test', categories=categories)\n",
    "\n",
    "newsgroups_train = fetch_20newsgroups(subset='train')\n",
    "pprint(list(newsgroups_train.target_names))"
   ]
  },
  {
   "cell_type": "code",
   "execution_count": 6,
   "metadata": {
    "colab": {
     "base_uri": "https://localhost:8080/",
     "height": 330
    },
    "colab_type": "code",
    "id": "TgydxXGGLc_M",
    "outputId": "a3353c2f-d5a1-40c5-db7b-f4207130d9fa"
   },
   "outputs": [
    {
     "name": "stdout",
     "output_type": "stream",
     "text": [
      "From: dmcgee@uluhe.soest.hawaii.edu (Don McGee)\n",
      "Subject: Federal Hearing\n",
      "Originator: dmcgee@uluhe\n",
      "Organization: School of Ocean and Earth Science and Technology\n",
      "Distribution: usa\n",
      "Lines: 10\n",
      "\n",
      "\n",
      "Fact or rumor....?  Madalyn Murray O'Hare an atheist who eliminated the\n",
      "use of the bible reading and prayer in public schools 15 years ago is now\n",
      "going to appear before the FCC with a petition to stop the reading of the\n",
      "Gospel on the airways of America.  And she is also campaigning to remove\n",
      "Christmas programs, songs, etc from the public schools.  If it is true\n",
      "then mail to Federal Communications Commission 1919 H Street Washington DC\n",
      "20054 expressing your opposition to her request.  Reference Petition number\n",
      "\n",
      "2493.\n",
      "\n"
     ]
    }
   ],
   "source": [
    "print(train.data[5])"
   ]
  },
  {
   "cell_type": "code",
   "execution_count": 7,
   "metadata": {
    "colab": {
     "base_uri": "https://localhost:8080/",
     "height": 34
    },
    "colab_type": "code",
    "id": "6pUFlI_vLc_Z",
    "outputId": "149b1105-ea75-4721-c053-c1208b61f6ab"
   },
   "outputs": [
    {
     "name": "stdout",
     "output_type": "stream",
     "text": [
      "3\n"
     ]
    }
   ],
   "source": [
    "print(train.target[5])"
   ]
  },
  {
   "cell_type": "markdown",
   "metadata": {
    "colab_type": "text",
    "id": "SMB8VY3WLc_k"
   },
   "source": [
    "#### Apply Multinomial Naive Bayes Approach, using TF-IDF feature engeneering technique"
   ]
  },
  {
   "cell_type": "code",
   "execution_count": 8,
   "metadata": {
    "colab": {
     "base_uri": "https://localhost:8080/",
     "height": 86
    },
    "colab_type": "code",
    "id": "WSVXa0ZlLc_l",
    "outputId": "00e14978-e33d-4d22-9540-00c1f1f0ee39"
   },
   "outputs": [
    {
     "name": "stdout",
     "output_type": "stream",
     "text": [
      "samples type: <class 'list'>\n",
      "target type: <class 'numpy.ndarray'>\n",
      "samples size: 2153\n",
      "target size: (2153,)\n"
     ]
    }
   ],
   "source": [
    "Xtrain, ytrain = train.data, train.target\n",
    "Xtrain, ytrain = shuffle(Xtrain, ytrain, random_state=0)\n",
    "\n",
    "\n",
    "print('samples type:', type(Xtrain))\n",
    "print('target type:', type(ytrain))\n",
    "\n",
    "print('samples size:', len(Xtrain))\n",
    "print('target size:', ytrain.shape)"
   ]
  },
  {
   "cell_type": "code",
   "execution_count": 9,
   "metadata": {
    "colab": {
     "base_uri": "https://localhost:8080/",
     "height": 86
    },
    "colab_type": "code",
    "id": "X089E1iMLc_u",
    "outputId": "6aa32fc7-dd34-45eb-b47e-b1994a77e2e8"
   },
   "outputs": [
    {
     "name": "stdout",
     "output_type": "stream",
     "text": [
      "samples type: <class 'list'>\n",
      "target type: <class 'numpy.ndarray'>\n",
      "samples size: 1432\n",
      "target size: (1432,)\n"
     ]
    }
   ],
   "source": [
    "Xtest, ytest = test.data, test.target\n",
    "Xtest, ytest = shuffle(Xtest, ytest, random_state=random_state)\n",
    "\n",
    "print('samples type:', type(Xtest))\n",
    "print('target type:', type(ytest))\n",
    "\n",
    "print('samples size:', len(Xtest))\n",
    "print('target size:', ytest.shape)"
   ]
  },
  {
   "cell_type": "code",
   "execution_count": 10,
   "metadata": {
    "colab": {
     "base_uri": "https://localhost:8080/",
     "height": 312
    },
    "colab_type": "code",
    "id": "SKfa39eKLc_3",
    "outputId": "265c36f7-fda6-47ba-cb21-02a97f4c07bc"
   },
   "outputs": [
    {
     "data": {
      "text/plain": [
       "Pipeline(memory=None,\n",
       "         steps=[('tfidfvectorizer',\n",
       "                 TfidfVectorizer(analyzer='word', binary=False,\n",
       "                                 decode_error='strict',\n",
       "                                 dtype=<class 'numpy.float64'>,\n",
       "                                 encoding='utf-8', input='content',\n",
       "                                 lowercase=True, max_df=1.0, max_features=None,\n",
       "                                 min_df=1, ngram_range=(1, 1), norm='l2',\n",
       "                                 preprocessor=None, smooth_idf=True,\n",
       "                                 stop_words=None, strip_accents=None,\n",
       "                                 sublinear_tf=False,\n",
       "                                 token_pattern='(?u)\\\\b\\\\w\\\\w+\\\\b',\n",
       "                                 tokenizer=None, use_idf=True,\n",
       "                                 vocabulary=None)),\n",
       "                ('multinomialnb',\n",
       "                 MultinomialNB(alpha=1.0, class_prior=None, fit_prior=True))],\n",
       "         verbose=False)"
      ]
     },
     "execution_count": 10,
     "metadata": {
      "tags": []
     },
     "output_type": "execute_result"
    }
   ],
   "source": [
    "model = make_pipeline(TfidfVectorizer(), MultinomialNB())\n",
    "model.fit(Xtrain, ytrain)"
   ]
  },
  {
   "cell_type": "code",
   "execution_count": 0,
   "metadata": {
    "colab": {},
    "colab_type": "code",
    "id": "Rbj3DxOiLc_-"
   },
   "outputs": [],
   "source": [
    "labels = model.predict(Xtest)"
   ]
  },
  {
   "cell_type": "code",
   "execution_count": 12,
   "metadata": {
    "colab": {
     "base_uri": "https://localhost:8080/",
     "height": 406
    },
    "colab_type": "code",
    "id": "trEaI2slLdAG",
    "outputId": "dd97ae5e-890b-4f6c-8597-4829c16f27ba"
   },
   "outputs": [
    {
     "data": {
      "text/plain": [
       "Text(89.18, 0.5, 'predicted label')"
      ]
     },
     "execution_count": 12,
     "metadata": {
      "tags": []
     },
     "output_type": "execute_result"
    },
    {
     "data": {
      "image/png": "[encoded data removed]",
      "text/plain": [
       "<Figure size 432x288 with 1 Axes>"
      ]
     },
     "metadata": {
      "tags": []
     },
     "output_type": "display_data"
    }
   ],
   "source": [
    "mat = confusion_matrix(ytest, labels)\n",
    "sns.heatmap(mat.T, square=True,\n",
    "           annot=True, fmt='d',\n",
    "           cbar=False,\n",
    "           xticklabels=train.target_names, yticklabels=train.target_names, )\n",
    "plt.xlabel('true label')\n",
    "plt.ylabel('predicted label')"
   ]
  },
  {
   "cell_type": "code",
   "execution_count": 0,
   "metadata": {
    "colab": {},
    "colab_type": "code",
    "id": "70gP_8sTLdAO"
   },
   "outputs": [],
   "source": [
    "def predict_category(s, train=train, model=model):\n",
    "    pred = model.predict([s])\n",
    "    return train.target_names[pred[0]]\n",
    "\n",
    "print(predict_category('sending a payload to the ISS'))\n",
    "print(predict_category('discussing islam versus atheism'))\n",
    "print(predict_category('determinig screen resolution and size'))"
   ]
  },
  {
   "cell_type": "code",
   "execution_count": 18,
   "metadata": {
    "colab": {
     "base_uri": "https://localhost:8080/",
     "height": 806
    },
    "colab_type": "code",
    "id": "6PLXDDUjLdA6",
    "outputId": "ec8466fb-07ba-4a5d-d760-18f84e10cd00"
   },
   "outputs": [
    {
     "name": "stdout",
     "output_type": "stream",
     "text": [
      "Running pipeline...\n",
      "K-Neighbors Classifier accuracy score: 0.8016759776536313\n",
      "K-Neighbors Classifier accuracy score (percentage): 80.17%\n",
      "[1], sci.space\n",
      "[2], soc.religion.christian\n",
      "[0], comp.graphics\n",
      "Pipeline done.\n"
     ]
    },
    {
     "data": {
      "text/plain": [
       "Pipeline(memory=None,\n",
       "         steps=[('tfidfvectorizer',\n",
       "                 TfidfVectorizer(analyzer='word', binary=False,\n",
       "                                 decode_error='strict',\n",
       "                                 dtype=<class 'numpy.float64'>,\n",
       "                                 encoding='utf-8', input='content',\n",
       "                                 lowercase=True, max_df=1.0, max_features=None,\n",
       "                                 min_df=1, ngram_range=(1, 1), norm='l2',\n",
       "                                 preprocessor=None, smooth_idf=True,\n",
       "                                 stop_words=None, strip_accents=None,\n",
       "                                 sublinear_tf=False,\n",
       "                                 token_pattern='(?u)\\\\b\\\\w\\\\w+\\\\b',\n",
       "                                 tokenizer=None, use_idf=True,\n",
       "                                 vocabulary=None)),\n",
       "                ('multinomialnb',\n",
       "                 MultinomialNB(alpha=1.0, class_prior=None, fit_prior=True))],\n",
       "         verbose=False)"
      ]
     },
     "execution_count": 18,
     "metadata": {
      "tags": []
     },
     "output_type": "execute_result"
    },
    {
     "data": {
      "image/png": "[encoded data removed]",
      "text/plain": [
       "<Figure size 432x288 with 1 Axes>"
      ]
     },
     "metadata": {
      "tags": []
     },
     "output_type": "display_data"
    }
   ],
   "source": [
    "# Run pipeline for:\n",
    "# 1. Feature Engeneerint technique: TfidfVectorizer\n",
    "# 1. Estimator: MultinomialNB\n",
    "\n",
    "model = make_pipeline(TfidfVectorizer(), MultinomialNB())\n",
    "run_pipeline(model, train, test)"
   ]
  },
  {
   "cell_type": "code",
   "execution_count": 19,
   "metadata": {
    "colab": {
     "base_uri": "https://localhost:8080/",
     "height": 754
    },
    "colab_type": "code",
    "id": "WTwRrpuHLdBB",
    "outputId": "769be02b-47fb-4b58-a7c8-05d3662418d7"
   },
   "outputs": [
    {
     "name": "stdout",
     "output_type": "stream",
     "text": [
      "Running pipeline...\n",
      "K-Neighbors Classifier accuracy score: 0.9168994413407822\n",
      "K-Neighbors Classifier accuracy score (percentage): 91.69%\n",
      "[1], sci.space\n",
      "[3], talk.religion.misc\n",
      "[0], comp.graphics\n",
      "Pipeline done.\n"
     ]
    },
    {
     "data": {
      "text/plain": [
       "Pipeline(memory=None,\n",
       "         steps=[('countvectorizer',\n",
       "                 CountVectorizer(analyzer='word', binary=False,\n",
       "                                 decode_error='strict',\n",
       "                                 dtype=<class 'numpy.int64'>, encoding='utf-8',\n",
       "                                 input='content', lowercase=True, max_df=1.0,\n",
       "                                 max_features=None, min_df=1,\n",
       "                                 ngram_range=(1, 1), preprocessor=None,\n",
       "                                 stop_words=None, strip_accents=None,\n",
       "                                 token_pattern='(?u)\\\\b\\\\w\\\\w+\\\\b',\n",
       "                                 tokenizer=None, vocabulary=None)),\n",
       "                ('multinomialnb',\n",
       "                 MultinomialNB(alpha=1.0, class_prior=None, fit_prior=True))],\n",
       "         verbose=False)"
      ]
     },
     "execution_count": 19,
     "metadata": {
      "tags": []
     },
     "output_type": "execute_result"
    },
    {
     "data": {
      "image/png": "[encoded data removed]",
      "text/plain": [
       "<Figure size 432x288 with 1 Axes>"
      ]
     },
     "metadata": {
      "tags": []
     },
     "output_type": "display_data"
    }
   ],
   "source": [
    "# Run pipeline for:\n",
    "# 1. Feature Engeneerint technique: CountVectorizer\n",
    "# 1. Estimator: MultinomialNB\n",
    "\n",
    "model = make_pipeline(CountVectorizer(), MultinomialNB())\n",
    "run_pipeline(model, train, test)"
   ]
  },
  {
   "cell_type": "markdown",
   "metadata": {
    "colab_type": "text",
    "id": "VWwKcfHJLdBJ"
   },
   "source": [
    "### Multinomial Logistic Regression Estimator (Technique, Approach, Statistical learning Method)"
   ]
  },
  {
   "cell_type": "code",
   "execution_count": 20,
   "metadata": {
    "colab": {
     "base_uri": "https://localhost:8080/",
     "height": 910
    },
    "colab_type": "code",
    "id": "tpCWUDZULdBK",
    "outputId": "81b5b319-5846-407b-e6f5-a3e0c322ca13"
   },
   "outputs": [
    {
     "name": "stdout",
     "output_type": "stream",
     "text": [
      "Running pipeline...\n",
      "K-Neighbors Classifier accuracy score: 0.8924581005586593\n",
      "K-Neighbors Classifier accuracy score (percentage): 89.25%\n",
      "[0], comp.graphics\n",
      "[0], comp.graphics\n",
      "[0], comp.graphics\n",
      "Pipeline done.\n"
     ]
    },
    {
     "data": {
      "text/plain": [
       "Pipeline(memory=None,\n",
       "         steps=[('tfidfvectorizer',\n",
       "                 TfidfVectorizer(analyzer='word', binary=False,\n",
       "                                 decode_error='strict',\n",
       "                                 dtype=<class 'numpy.float64'>,\n",
       "                                 encoding='utf-8', input='content',\n",
       "                                 lowercase=True, max_df=1.0, max_features=None,\n",
       "                                 min_df=1, ngram_range=(1, 1), norm='l2',\n",
       "                                 preprocessor=None, smooth_idf=True,\n",
       "                                 stop_words=None, strip_accents=None,\n",
       "                                 sublinear_tf=False,\n",
       "                                 token...tern='(?u)\\\\b\\\\w\\\\w+\\\\b',\n",
       "                                 tokenizer=None, use_idf=True,\n",
       "                                 vocabulary=None)),\n",
       "                ('logisticregression',\n",
       "                 LogisticRegression(C=1.0, class_weight=None, dual=False,\n",
       "                                    fit_intercept=True, intercept_scaling=1,\n",
       "                                    l1_ratio=None, max_iter=100,\n",
       "                                    multi_class='multinomial', n_jobs=None,\n",
       "                                    penalty='l2', random_state=None,\n",
       "                                    solver='sag', tol=0.0001, verbose=0,\n",
       "                                    warm_start=False))],\n",
       "         verbose=False)"
      ]
     },
     "execution_count": 20,
     "metadata": {
      "tags": []
     },
     "output_type": "execute_result"
    },
    {
     "data": {
      "image/png": "[encoded data removed]",
      "text/plain": [
       "<Figure size 432x288 with 1 Axes>"
      ]
     },
     "metadata": {
      "tags": []
     },
     "output_type": "display_data"
    }
   ],
   "source": [
    "# Run pipeline for:\n",
    "# 1. Feature Engeneerint technique: TfidfVectorizer\n",
    "# 2. Estimator: LogisticRegression\n",
    "\n",
    "model = make_pipeline(\n",
    "    TfidfVectorizer(),\n",
    "    LogisticRegression(\n",
    "        solver='sag',\n",
    "        multi_class='multinomial')\n",
    ")\n",
    "run_pipeline(model, train, test)"
   ]
  },
  {
   "cell_type": "code",
   "execution_count": 21,
   "metadata": {
    "colab": {
     "base_uri": "https://localhost:8080/",
     "height": 910
    },
    "colab_type": "code",
    "id": "jvDGdPPFLdBR",
    "outputId": "4530621d-930f-4e37-c796-83dbce9238b8"
   },
   "outputs": [
    {
     "name": "stdout",
     "output_type": "stream",
     "text": [
      "Running pipeline...\n",
      "K-Neighbors Classifier accuracy score: 0.8791899441340782\n",
      "K-Neighbors Classifier accuracy score (percentage): 87.92%\n",
      "[0], comp.graphics\n",
      "[0], comp.graphics\n",
      "[0], comp.graphics\n",
      "Pipeline done.\n"
     ]
    },
    {
     "data": {
      "text/plain": [
       "Pipeline(memory=None,\n",
       "         steps=[('tfidfvectorizer',\n",
       "                 TfidfVectorizer(analyzer='word', binary=False,\n",
       "                                 decode_error='strict',\n",
       "                                 dtype=<class 'numpy.float64'>,\n",
       "                                 encoding='utf-8', input='content',\n",
       "                                 lowercase=True, max_df=1.0, max_features=None,\n",
       "                                 min_df=1, ngram_range=(1, 1), norm='l2',\n",
       "                                 preprocessor=None, smooth_idf=True,\n",
       "                                 stop_words=None, strip_accents=None,\n",
       "                                 sublinear_tf=False,\n",
       "                                 token_pattern='(?u)\\\\b\\\\w\\\\w+\\\\b',\n",
       "                                 tokenizer=None, use_idf=True,\n",
       "                                 vocabulary=None)),\n",
       "                ('logisticregression',\n",
       "                 LogisticRegression(C=1.0, class_weight=None, dual=False,\n",
       "                                    fit_intercept=True, intercept_scaling=1,\n",
       "                                    l1_ratio=None, max_iter=100,\n",
       "                                    multi_class='ovr', n_jobs=None,\n",
       "                                    penalty='l2', random_state=None,\n",
       "                                    solver='sag', tol=0.0001, verbose=0,\n",
       "                                    warm_start=False))],\n",
       "         verbose=False)"
      ]
     },
     "execution_count": 21,
     "metadata": {
      "tags": []
     },
     "output_type": "execute_result"
    },
    {
     "data": {
      "image/png": "[encoded data removed]",
      "text/plain": [
       "<Figure size 432x288 with 1 Axes>"
      ]
     },
     "metadata": {
      "tags": []
     },
     "output_type": "display_data"
    }
   ],
   "source": [
    "# Run pipeline for:\n",
    "# 1. Feature Engeneerint technique: TfidfVectorizer\n",
    "# 2. Estimator: LogisticRegression\n",
    "\n",
    "model = make_pipeline(\n",
    "    TfidfVectorizer(),\n",
    "    LogisticRegression(\n",
    "        solver='sag',\n",
    "        multi_class='ovr')\n",
    ")\n",
    "run_pipeline(model, train, test)"
   ]
  },
  {
   "cell_type": "markdown",
   "metadata": {
    "colab_type": "text",
    "id": "jTwyRzuFLdBc"
   },
   "source": [
    "### K-Neighbors Classifier Estimator (Technique, Approach, Statistical learning Method)"
   ]
  },
  {
   "cell_type": "code",
   "execution_count": 22,
   "metadata": {
    "colab": {
     "base_uri": "https://localhost:8080/",
     "height": 597
    },
    "colab_type": "code",
    "id": "Pdr0WkO7LdBd",
    "outputId": "8dabb389-fb6b-4488-8be5-2d8354cd91d6"
   },
   "outputs": [
    {
     "name": "stdout",
     "output_type": "stream",
     "text": [
      "Running pipeline...\n",
      "K-Neighbors Classifier accuracy score: 0.8296089385474861\n",
      "K-Neighbors Classifier accuracy score (percentage): 82.96%\n",
      "[1], sci.space\n",
      "[3], talk.religion.misc\n",
      "[0], comp.graphics\n",
      "Pipeline done.\n",
      "\n",
      "CV KNeighborsClassifier, running...\n",
      "[0.91415313 0.92807425 0.89791183 0.94418605 0.90930233]\n",
      "0.9187255166459828\n",
      "CV KNeighborsClassifier, done.\n"
     ]
    },
    {
     "data": {
      "image/png": "[encoded data removed]",
      "text/plain": [
       "<Figure size 432x288 with 1 Axes>"
      ]
     },
     "metadata": {
      "tags": []
     },
     "output_type": "display_data"
    }
   ],
   "source": [
    "# Run pipeline for:\n",
    "# 1. Feature Engeneerint technique: TfidfVectorizer\n",
    "# 2. Estimator: KNeighborsClassifier, K = 1\n",
    "\n",
    "model = make_pipeline(\n",
    "    TfidfVectorizer(),\n",
    "    KNeighborsClassifier(n_neighbors=1)\n",
    ")\n",
    "run_pipeline(model, train, test, cv=5)\n",
    "\n",
    "# print()\n",
    "# print('CV KNeighborsClassifier, running...')\n",
    "# Xtrain, ytrain = train.data, train.target\n",
    "# Xtrain, ytrain = shuffle(Xtrain, ytrain, random_state=0)\n",
    "# scores = cross_val_score(model, Xtrain, ytrain , cv=5)\n",
    "# print(scores)\n",
    "# print(scores.mean())\n",
    "# print('CV KNeighborsClassifier, done.')"
   ]
  },
  {
   "cell_type": "markdown",
   "metadata": {
    "colab_type": "text",
    "id": "fXVttxDwLdBp"
   },
   "source": [
    "    loo = LeaveOneOut()\n",
    "    Xtrain, ytrain = train.data, train.target\n",
    "    scores = cross_val_score(model, Xtrain, ytrain, cv=loo)\n",
    "    print(scores)\n",
    "    print(scores.mean())"
   ]
  },
  {
   "cell_type": "markdown",
   "metadata": {
    "colab_type": "text",
    "id": "Y6HFZLsYLdBr"
   },
   "source": [
    "### Multinomial Logistic Regression Estimator (Technique, Approach, Statistical learning Method)\n",
    "#### Grid Search Approach"
   ]
  },
  {
   "cell_type": "code",
   "execution_count": 23,
   "metadata": {
    "colab": {
     "base_uri": "https://localhost:8080/",
     "height": 979
    },
    "colab_type": "code",
    "id": "yDCRZ1_kLdBs",
    "outputId": "7d354d69-d7cf-4e7e-b5db-45dbcf98301b"
   },
   "outputs": [
    {
     "name": "stdout",
     "output_type": "stream",
     "text": [
      "Running pipeline...\n",
      "CV running...\n",
      "[0.92111369 0.94199536 0.91647332 0.93023256 0.91162791]\n",
      "0.9242885663411213\n",
      "CV done.\n",
      "K-Neighbors Classifier accuracy score: 0.8924581005586593\n",
      "K-Neighbors Classifier accuracy score (percentage): 89.25%\n",
      "[0], comp.graphics\n",
      "[0], comp.graphics\n",
      "[0], comp.graphics\n",
      "Pipeline done.\n"
     ]
    },
    {
     "data": {
      "text/plain": [
       "Pipeline(memory=None,\n",
       "         steps=[('tfidfvectorizer',\n",
       "                 TfidfVectorizer(analyzer='word', binary=False,\n",
       "                                 decode_error='strict',\n",
       "                                 dtype=<class 'numpy.float64'>,\n",
       "                                 encoding='utf-8', input='content',\n",
       "                                 lowercase=True, max_df=1.0, max_features=None,\n",
       "                                 min_df=1, ngram_range=(1, 1), norm='l2',\n",
       "                                 preprocessor=None, smooth_idf=True,\n",
       "                                 stop_words=None, strip_accents=None,\n",
       "                                 sublinear_tf=False,\n",
       "                                 token_pattern='(?u)\\\\b\\\\w\\\\w+\\\\b',\n",
       "                                 tokenizer=None, use_idf=True,\n",
       "                                 vocabulary=None)),\n",
       "                ('logisticregression',\n",
       "                 LogisticRegression(C=1.0, class_weight=None, dual=False,\n",
       "                                    fit_intercept=True, intercept_scaling=1,\n",
       "                                    l1_ratio=None, max_iter=100,\n",
       "                                    multi_class='auto', n_jobs=None,\n",
       "                                    penalty='l2', random_state=None,\n",
       "                                    solver='lbfgs', tol=0.0001, verbose=0,\n",
       "                                    warm_start=False))],\n",
       "         verbose=False)"
      ]
     },
     "execution_count": 23,
     "metadata": {
      "tags": []
     },
     "output_type": "execute_result"
    },
    {
     "data": {
      "image/png": "[encoded data removed]",
      "text/plain": [
       "<Figure size 432x288 with 1 Axes>"
      ]
     },
     "metadata": {
      "tags": []
     },
     "output_type": "display_data"
    }
   ],
   "source": [
    "def PolynomialLogisticRegression(degree=2, **kwargs):\n",
    "    return make_pipeline(\n",
    "        PolynomialFeatures(degree),\n",
    "        LogisticRegression(**kwargs))\n",
    "\n",
    "param_grid = {\n",
    "    # 'polynomialfeatures__degree': np.arange(5),\n",
    "    'logisticregression__penalty': ['l2'],                               # ['l1', 'l2', 'elastic', 'none'],\n",
    "    'logisticregression_multi_class': ['multi_class, ovr'],\n",
    "    'logisticregression__C': [0.001, 0.01, 0.1, 1.0],\n",
    "    'logisticregression__solver':['newton-cg', 'lbfgs', 'sag', 'saga',], # ['newton-cg', 'lbfgs', 'liblinear', 'sag', 'saga',]\n",
    "}\n",
    "\n",
    "model = make_pipeline(\n",
    "    TfidfVectorizer(),\n",
    "    # PolynomialLogisticRegression()\n",
    "    LogisticRegression()\n",
    ")\n",
    "run_pipeline(model, train, test, cv=5)"
   ]
  },
  {
   "cell_type": "code",
   "execution_count": 0,
   "metadata": {
    "colab": {},
    "colab_type": "code",
    "id": "hsdsJRV8LdB2"
   },
   "outputs": [],
   "source": [
    "NUM_TRIALS = 30\n",
    "\n",
    "param_grid = {\n",
    "    'penalty': ['l2'],                                # ['l1', 'l2', 'elastic', 'none'],\n",
    "    'multi_class': ['multinomial', 'ovr'],\n",
    "    'C': [0.001, 0.01, 0.1, 1.0],\n",
    "    'solver':['newton-cg', 'lbfgs', 'sag', 'saga',],  # ['newton-cg', 'lbfgs', 'liblinear', 'sag', 'saga',],\n",
    "}\n",
    "\n",
    "Xtrain, ytrain = train.data, train.target\n",
    "Xtrain, ytrain = shuffle(Xtrain, ytrain, random_state=random_state)\n",
    "\n",
    "Xtest, ytest = test.data, test.target\n",
    "Xtest, ytest = shuffle(Xtest, ytest, random_state=random_state)\n",
    "\n",
    "tfidf = TfidfVectorizer()\n",
    "tfidf.fit(Xtrain)\n",
    "Xtrain = tfidf.transform(Xtrain)\n",
    "\n",
    "lrm = LogisticRegression()\n",
    "\n",
    "# Arrays to store scores\n",
    "non_nested_scores = np.zeros(NUM_TRIALS)\n",
    "nested_scores = np.zeros(NUM_TRIALS)\n",
    "\n",
    "# Loop for each trial\n",
    "for i in range(NUM_TRIALS):\n",
    "\n",
    "    # Choose cross-validation techniques for the inner and outer loops,\n",
    "    # independently of the dataset.\n",
    "    # E.g \"GroupKFold\", \"LeaveOneOut\", \"LeaveOneGroupOut\", etc.\n",
    "    inner_cv = KFold(n_splits=4, shuffle=True, random_state=i)\n",
    "    outer_cv = KFold(n_splits=4, shuffle=True, random_state=i)\n",
    "\n",
    "    # Non_nested parameter search and scoring\n",
    "    clf = GridSearchCV(estimator=lrm, param_grid=param_grid, cv=inner_cv)\n",
    "    clf.fit(Xtrain, ytrain)\n",
    "    non_nested_scores[i] = clf.best_score_\n",
    "\n",
    "    # Nested CV with parameter optimization\n",
    "    nested_score = cross_val_score(clf, X=Xtrain, y=ytrain, cv=outer_cv)\n",
    "    nested_scores[i] = nested_score.mean()\n",
    "\n",
    "score_difference = non_nested_scores - nested_scores\n",
    "\n",
    "print(\"Average difference of {:6f} with std. dev. of {:6f}.\"\n",
    "      .format(score_difference.mean(), score_difference.std()))\n",
    "\n",
    "# Plot scores on each trial for nested and non-nested CV\n",
    "plt.figure()\n",
    "plt.subplot(211)\n",
    "non_nested_scores_line, = plt.plot(non_nested_scores, color='r')\n",
    "nested_line, = plt.plot(nested_scores, color='b')\n",
    "plt.ylabel(\"score\", fontsize=\"14\")\n",
    "plt.legend([non_nested_scores_line, nested_line],\n",
    "           [\"Non-Nested CV\", \"Nested CV\"],\n",
    "           bbox_to_anchor=(0, .4, .5, 0))\n",
    "plt.title(\"Non-Nested and Nested Cross Validation on Iris Dataset\",\n",
    "          x=.5, y=1.1, fontsize=\"15\")\n",
    "\n",
    "# Plot bar chart of the difference.\n",
    "plt.subplot(212)\n",
    "difference_plot = plt.bar(range(NUM_TRIALS), score_difference)\n",
    "plt.xlabel(\"Individual Trial #\")\n",
    "plt.legend([difference_plot],\n",
    "           [\"Non-Nested CV - Nested CV Score\"],\n",
    "           bbox_to_anchor=(0, 1, .8, 0))\n",
    "plt.ylabel(\"score difference\", fontsize=\"14\")\n",
    "\n",
    "plt.show()"
   ]
  },
  {
   "cell_type": "code",
   "execution_count": 0,
   "metadata": {
    "colab": {},
    "colab_type": "code",
    "id": "JbgKBC9ELdCB"
   },
   "outputs": [],
   "source": [
    "param_grid = {\n",
    "              'kneighborsclassifier__n_neighbors':[1,2,3,5,7,9,10,20], \n",
    "}\n",
    "model_pipeline = make_pipeline(\n",
    "    TfidfVectorizer(),\n",
    "    KNeighborsClassifier()\n",
    ")\n",
    "\n",
    "grid = GridSearchCV(model_pipeline, param_grid, cv=7)\n",
    "model = run_pipeline(grid, train, test)\n",
    "\n",
    "model.cv_results_"
   ]
  },
  {
   "cell_type": "markdown",
   "metadata": {
    "colab_type": "text",
    "id": "y6q-DFhlLdCI"
   },
   "source": [
    "#### References\n",
    "- (The 20 newsgroups text dataset) https://scikit-learn.org/0.19/datasets/twenty_newsgroups.html\n",
    "\n",
    "- Logistic Regression technique, classifier, estimator:\n",
    "    - (Constructor) https://scikit-learn.org/stable/modules/generated/sklearn.linear_model.LogisticRegression.html\n",
    "    - (Example) https://scikit-learn.org/stable/auto_examples/linear_model/plot_logistic_multinomial.html#sphx-glr-auto-examples-linear-model-plot-logistic-multinomial-py\n",
    "- (Shuffle) https://scikit-learn.org/stable/modules/generated/sklearn.utils.shuffle.html"
   ]
  },
  {
   "cell_type": "code",
   "execution_count": 0,
   "metadata": {
    "colab": {},
    "colab_type": "code",
    "id": "6DQLN9UMLdCK"
   },
   "outputs": [],
   "source": []
  }
 ],
 "metadata": {
  "colab": {
   "collapsed_sections": [],
   "name": "In_Depth_Multinomial_Naive_Bayes_Classifiers_20_News_Groups.ipynb",
   "provenance": []
  },
  "kernelspec": {
   "display_name": "Python 3",
   "language": "python",
   "name": "python3"
  },
  "language_info": {
   "codemirror_mode": {
    "name": "ipython",
    "version": 3
   },
   "file_extension": ".py",
   "mimetype": "text/x-python",
   "name": "python",
   "nbconvert_exporter": "python",
   "pygments_lexer": "ipython3",
   "version": "3.7.3"
  }
 },
 "nbformat": 4,
 "nbformat_minor": 1
}
