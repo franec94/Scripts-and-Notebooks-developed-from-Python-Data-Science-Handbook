{
 "cells": [
  {
   "cell_type": "code",
   "execution_count": 1,
   "metadata": {},
   "outputs": [],
   "source": [
    "# Magic statements.\n",
    "%matplotlib inline\n",
    "\n",
    "import warnings\n",
    "warnings.filterwarnings('ignore')\n",
    "warnings.simplefilter('ignore')\n",
    "\n",
    "from pprint import pprint\n",
    "import time\n",
    "\n",
    "# Import graph libraries.\n",
    "import matplotlib.pyplot as plt\n",
    "from matplotlib.ticker import MultipleLocator, AutoMinorLocator\n",
    "\n",
    "# Import main modules, packages, and third party libraries.\n",
    "import numpy as np; from numpy import nan\n",
    "import pandas as pd\n",
    "import seaborn as sns; sns.set()\n",
    "\n",
    "# Import scikit-learn classes: datasets.\n",
    "from sklearn.datasets import fetch_20newsgroups\n",
    "from sklearn.datasets import load_digits\n",
    "from sklearn.datasets import load_iris\n",
    "\n",
    "# Import scikit-learn classes: preprocessing step utility functions.\n",
    "from sklearn.model_selection import train_test_split\n",
    "from sklearn.decomposition import TruncatedSVD\n",
    "from sklearn.decomposition import PCA                # Unsupervised Machine Learning tasks: feature reduction, dimensionality reduction\n",
    "from sklearn.mixture import GaussianMixture          # Unsupervised Machine Learning tasks: clustering\n",
    "from sklearn.manifold import Isomap                  # Unsupervised Machine Learning tasks: feature reduction, dimensionality reduction\n",
    "\n",
    "# Import scikit-learn classes: models (Estimators).\n",
    "from sklearn.naive_bayes import GaussianNB\n",
    "from sklearn.naive_bayes import MultinomialNB\n",
    "from sklearn.linear_model import LinearRegression\n",
    "from sklearn.linear_model import LogisticRegression\n",
    "from sklearn.linear_model import Ridge\n",
    "\n",
    "# Import scikit-learn classes: preprocessing.\n",
    "from sklearn.preprocessing import PolynomialFeatures\n",
    "# from sklearn.preprocessing import Imputer\n",
    "from sklearn.pipeline import make_pipeline\n",
    "from sklearn.utils import shuffle\n",
    "\n",
    "from sklearn.neighbors import KNeighborsClassifier\n",
    "\n",
    "# Import scikit-learn classes: Hyperparameters Validation utility functions.\n",
    "from sklearn.model_selection import cross_val_score\n",
    "from sklearn.model_selection import LeavePOut\n",
    "from sklearn.model_selection import LeaveOneOut\n",
    "\n",
    "from sklearn.model_selection import StratifiedKFold\n",
    "from sklearn.model_selection import StratifiedShuffleSplit\n",
    "from sklearn.model_selection import GridSearchCV\n",
    "from sklearn.model_selection import KFold\n",
    "\n",
    "# Import scikit-learn classes: model's evaluation step utility functions.\n",
    "from sklearn.metrics import accuracy_score \n",
    "from sklearn.metrics import confusion_matrix"
   ]
  },
  {
   "cell_type": "code",
   "execution_count": 2,
   "metadata": {},
   "outputs": [],
   "source": [
    "from sklearn.feature_extraction import DictVectorizer\n",
    "from sklearn.feature_selection import SelectKBest, chi2\n",
    "\n",
    "from sklearn.feature_extraction.text import TfidfVectorizer, CountVectorizer\n",
    "from sklearn.decomposition import NMF, LatentDirichletAllocation"
   ]
  },
  {
   "cell_type": "code",
   "execution_count": 3,
   "metadata": {},
   "outputs": [],
   "source": [
    "from utils.grid_search_cv_utils import inner_vs_outer_cv\n",
    "from utils.load_pittburgh_dataset import load_brdiges_dataset"
   ]
  },
  {
   "cell_type": "code",
   "execution_count": 4,
   "metadata": {},
   "outputs": [],
   "source": [
    "# Global starting variables.\n",
    "SEED = 42\n",
    "RANDOM_STATE = 1\n",
    "NUM_TRIALS = 2\n",
    "\n",
    "# Instantiate, or create, a random generator object.\n",
    "rng = np.random.RandomState(seed=SEED)\n",
    "\n",
    "# Set seed for numpy module.\n",
    "np.random.seed(seed=SEED)"
   ]
  },
  {
   "cell_type": "code",
   "execution_count": 5,
   "metadata": {},
   "outputs": [
    {
     "name": "stdout",
     "output_type": "stream",
     "text": [
      "Dataset shape: (108, 12)\n",
      "<class 'pandas.core.frame.DataFrame'>\n",
      "Index: 108 entries, E1 to E109\n",
      "Data columns (total 12 columns):\n",
      "RIVER       108 non-null object\n",
      "LOCATION    108 non-null object\n",
      "ERECTED     108 non-null int64\n",
      "PURPOSE     108 non-null object\n",
      "LENGTH      108 non-null object\n",
      "LANES       108 non-null object\n",
      "CLEAR-G     108 non-null object\n",
      "T-OR-D      108 non-null object\n",
      "MATERIAL    108 non-null object\n",
      "SPAN        108 non-null object\n",
      "REL-L       108 non-null object\n",
      "TYPE        108 non-null object\n",
      "dtypes: int64(1), object(11)\n",
      "memory usage: 11.0+ KB\n",
      "None\n",
      "RIVER  :  ['A', 'M', 'O', 'Y']\n",
      "PURPOSE  :  ['AQUEDUCT', 'HIGHWAY', 'RR', 'WALK']\n",
      "CLEAR-G  :  ['?', 'G', 'N']\n",
      "T-OR-D  :  ['?', 'DECK', 'THROUGH']\n",
      "MATERIAL  :  ['?', 'IRON', 'STEEL', 'WOOD']\n",
      "SPAN  :  ['?', 'LONG', 'MEDIUM', 'SHORT']\n",
      "REL-L  :  ['?', 'F', 'S', 'S-F']\n",
      "TYPE  :  ['?', 'ARCH', 'CANTILEV', 'CONT-T', 'NIL', 'SIMPLE-T', 'SUSPEN', 'WOOD']\n",
      "Before (108, 12)\n",
      "After (88, 12)\n",
      "RIVER  :  ['A', 'M', 'O', 'Y']\n",
      "PURPOSE  :  ['AQUEDUCT', 'HIGHWAY', 'RR']\n",
      "CLEAR-G  :  ['G', 'N']\n",
      "T-OR-D  :  ['DECK', 'THROUGH']\n",
      "MATERIAL  :  ['IRON', 'STEEL', 'WOOD']\n",
      "SPAN  :  ['LONG', 'MEDIUM', 'SHORT']\n",
      "REL-L  :  ['F', 'S', 'S-F']\n",
      "TYPE  :  ['ARCH', 'CANTILEV', 'CONT-T', 'SIMPLE-T', 'SUSPEN', 'WOOD']\n",
      "<class 'pandas.core.frame.DataFrame'>\n",
      "Index: 88 entries, E1 to E90\n",
      "Data columns (total 12 columns):\n",
      "RIVER       88 non-null int64\n",
      "LOCATION    88 non-null object\n",
      "ERECTED     88 non-null int64\n",
      "PURPOSE     88 non-null int64\n",
      "LENGTH      88 non-null object\n",
      "LANES       88 non-null object\n",
      "CLEAR-G     88 non-null int64\n",
      "T-OR-D      88 non-null int64\n",
      "MATERIAL    88 non-null int64\n",
      "SPAN        88 non-null int64\n",
      "REL-L       88 non-null int64\n",
      "TYPE        88 non-null int64\n",
      "dtypes: int64(9), object(3)\n",
      "memory usage: 8.9+ KB\n",
      "None\n",
      "Before (88, 12)\n",
      "After (80, 12)\n",
      "<class 'pandas.core.frame.DataFrame'>\n",
      "Index: 80 entries, E1 to E90\n",
      "Data columns (total 12 columns):\n",
      "RIVER       80 non-null int64\n",
      "LOCATION    80 non-null object\n",
      "ERECTED     80 non-null int64\n",
      "PURPOSE     80 non-null int64\n",
      "LENGTH      80 non-null object\n",
      "LANES       80 non-null int64\n",
      "CLEAR-G     80 non-null int64\n",
      "T-OR-D      80 non-null int64\n",
      "MATERIAL    80 non-null int64\n",
      "SPAN        80 non-null int64\n",
      "REL-L       80 non-null int64\n",
      "TYPE        80 non-null int64\n",
      "dtypes: int64(10), object(2)\n",
      "memory usage: 8.1+ KB\n",
      "None\n",
      "    RIVER LOCATION  ERECTED  PURPOSE LENGTH  LANES  CLEAR-G  T-OR-D  MATERIAL  \\\n",
      "E1      2        3     1818        2      ?      2        2       2         3   \n",
      "E2      1       25     1819        2   1037      2        2       2         3   \n",
      "E5      1       29     1837        2   1000      2        2       2         3   \n",
      "E7      1       27     1840        2    990      2        2       2         3   \n",
      "E8      1       28     1844        1   1000      1        2       2         1   \n",
      "\n",
      "    SPAN  REL-L  TYPE  \n",
      "E1     3      2     6  \n",
      "E2     3      2     6  \n",
      "E5     3      2     6  \n",
      "E7     2      2     6  \n",
      "E8     3      2     5  \n",
      "Before (80, 12)\n",
      "After (70, 12)\n",
      "<class 'pandas.core.frame.DataFrame'>\n",
      "Index: 70 entries, E2 to E90\n",
      "Data columns (total 12 columns):\n",
      "RIVER       70 non-null int64\n",
      "LOCATION    70 non-null float64\n",
      "ERECTED     70 non-null int64\n",
      "PURPOSE     70 non-null int64\n",
      "LENGTH      70 non-null float64\n",
      "LANES       70 non-null float64\n",
      "CLEAR-G     70 non-null int64\n",
      "T-OR-D      70 non-null int64\n",
      "MATERIAL    70 non-null int64\n",
      "SPAN        70 non-null int64\n",
      "REL-L       70 non-null int64\n",
      "TYPE        70 non-null int64\n",
      "dtypes: float64(3), int64(9)\n",
      "memory usage: 7.1+ KB\n",
      "None\n",
      "    RIVER  LOCATION  ERECTED  PURPOSE  LENGTH  LANES  CLEAR-G  T-OR-D  \\\n",
      "E2      1      25.0     1819        2  1037.0    2.0        2       2   \n",
      "E5      1      29.0     1837        2  1000.0    2.0        2       2   \n",
      "E7      1      27.0     1840        2   990.0    2.0        2       2   \n",
      "E8      1      28.0     1844        1  1000.0    1.0        2       2   \n",
      "E9      2       3.0     1846        2  1500.0    2.0        2       2   \n",
      "\n",
      "    MATERIAL  SPAN  REL-L  TYPE  \n",
      "E2         3     3      2     6  \n",
      "E5         3     3      2     6  \n",
      "E7         3     2      2     6  \n",
      "E8         1     3      2     5  \n",
      "E9         1     3      2     5  \n",
      "RIVER  :  [1, 2, 3]\n",
      "LOCATION  :  [1.0, 3.0, 4.0, 5.0, 6.0, 7.0, 8.0, 9.0, 11.0, 12.0, 14.0, 15.0, 16.0, 17.0, 18.0, 19.0, 20.0, 22.0, 23.0, 24.0, 25.0, 26.0, 27.0, 28.0, 29.0, 30.0, 31.0, 32.0, 33.0, 34.0, 35.0, 36.0, 37.0, 38.0, 38.5, 39.5, 39.7, 40.0, 41.0, 42.0, 43.0, 44.0, 46.0, 47.0, 48.0, 49.0]\n",
      "ERECTED  :  [1819, 1837, 1840, 1844, 1846, 1851, 1856, 1859, 1864, 1866, 1870, 1876, 1883, 1884, 1887, 1888, 1890, 1891, 1892, 1895, 1896, 1897, 1898, 1900, 1902, 1903, 1904, 1909, 1910, 1911, 1915, 1918, 1920, 1923, 1924, 1926, 1927, 1928, 1931, 1937, 1939, 1945, 1950, 1951, 1955, 1959, 1961, 1962, 1969, 1975, 1978]\n",
      "PURPOSE  :  [1, 2, 3]\n",
      "LENGTH  :  [840.0, 860.0, 870.0, 884.0, 885.0, 900.0, 950.0, 965.0, 980.0, 990.0, 1000.0, 1030.0, 1031.0, 1037.0, 1040.0, 1060.0, 1092.0, 1150.0, 1161.0, 1200.0, 1300.0, 1320.0, 1330.0, 1350.0, 1365.0, 1417.0, 1450.0, 1500.0, 1620.0, 1652.0, 1690.0, 1700.0, 1710.0, 1730.0, 1770.0, 1800.0, 1850.0, 2000.0, 2122.0, 2160.0, 2213.0, 2220.0, 2250.0, 2300.0, 2365.0, 2367.0, 2423.0, 2663.0, 2678.0, 2822.0, 3000.0, 3756.0, 4000.0, 4558.0]\n",
      "LANES  :  [1.0, 2.0, 4.0, 6.0]\n",
      "CLEAR-G  :  [1, 2]\n",
      "T-OR-D  :  [1, 2]\n",
      "MATERIAL  :  [1, 2, 3]\n",
      "SPAN  :  [1, 2, 3]\n",
      "REL-L  :  [1, 2, 3]\n",
      "TYPE  :  [1, 2, 3, 4, 5, 6]\n",
      "           RIVER   LOCATION      ERECTED    PURPOSE       LENGTH      LANES  \\\n",
      "count  70.000000  70.000000    70.000000  70.000000    70.000000  70.000000   \n",
      "mean    1.642857  25.438571  1911.542857   2.214286  1597.657143   2.857143   \n",
      "std     0.723031  13.223347    36.010339   0.478308   780.237680   1.242785   \n",
      "min     1.000000   1.000000  1819.000000   1.000000   840.000000   1.000000   \n",
      "25%     1.000000  15.250000  1891.250000   2.000000  1000.000000   2.000000   \n",
      "50%     1.500000  27.000000  1915.000000   2.000000  1325.000000   2.000000   \n",
      "75%     2.000000  35.750000  1935.500000   2.000000  2000.000000   4.000000   \n",
      "max     3.000000  49.000000  1978.000000   3.000000  4558.000000   6.000000   \n",
      "\n",
      "         CLEAR-G     T-OR-D   MATERIAL       SPAN      REL-L       TYPE  \n",
      "count  70.000000  70.000000  70.000000  70.000000  70.000000  70.000000  \n",
      "mean    1.257143   1.814286   2.071429   1.742857   1.728571   3.457143  \n",
      "std     0.440215   0.391684   0.428054   0.629831   0.797122   1.575958  \n",
      "min     1.000000   1.000000   1.000000   1.000000   1.000000   1.000000  \n",
      "25%     1.000000   2.000000   2.000000   1.000000   1.000000   2.000000  \n",
      "50%     1.000000   2.000000   2.000000   2.000000   2.000000   4.000000  \n",
      "75%     1.750000   2.000000   2.000000   2.000000   2.000000   4.000000  \n",
      "max     2.000000   2.000000   3.000000   3.000000   3.000000   6.000000  \n"
     ]
    }
   ],
   "source": [
    "dataset = load_brdiges_dataset()"
   ]
  },
  {
   "cell_type": "code",
   "execution_count": 6,
   "metadata": {},
   "outputs": [
    {
     "name": "stdout",
     "output_type": "stream",
     "text": [
      "2    57\n",
      "1    13\n",
      "Name: T-OR-D, dtype: int64\n"
     ]
    }
   ],
   "source": [
    "columns = dataset.columns\n",
    "target_col = 'T-OR-D'\n",
    "\n",
    "y = np.array(list(map(lambda x: 0 if x == 1 else 1, dataset[target_col].values)), dtype=int)\n",
    "print(dataset[target_col].value_counts())\n",
    "X = dataset.loc[:, dataset.columns != target_col]\n",
    "\n",
    "Xtrain, Xtest, ytrain, ytest = train_test_split(X, y, random_state=RANDOM_STATE)"
   ]
  },
  {
   "cell_type": "code",
   "execution_count": 7,
   "metadata": {},
   "outputs": [
    {
     "name": "stdout",
     "output_type": "stream",
     "text": [
      "Gaussian naive Bayes accuracy score: 0.6111111111111112\n",
      "Gaussian naive Bayes accuracy score (percentage): 61.11%\n"
     ]
    },
    {
     "data": {
      "text/plain": [
       "Text(89.18, 0.5, 'true value')"
      ]
     },
     "execution_count": 7,
     "metadata": {},
     "output_type": "execute_result"
    },
    {
     "data": {
      "image/png": "[encoded data removed]",
      "text/plain": [
       "<Figure size 432x288 with 1 Axes>"
      ]
     },
     "metadata": {},
     "output_type": "display_data"
    }
   ],
   "source": [
    "model = GaussianNB()           # 2. Instantiate the model w/ hyperparameters.\n",
    "model.fit(Xtrain, ytrain)      # 3. Fit the model to data. Notice y is not specified.          \n",
    "\n",
    "y_model = model.predict(Xtest) # 4. Predict sample's class labels\n",
    "print('Gaussian naive Bayes accuracy score:', accuracy_score(ytest, y_model))\n",
    "print(f\"Gaussian naive Bayes accuracy score (percentage): {accuracy_score(ytest, y_model)*100:.2f}%\")\n",
    "\n",
    "mat = confusion_matrix(ytest, y_model)\n",
    "\n",
    "sns.heatmap(mat, square=True, annot=True, cbar=False)\n",
    "plt.xlabel('predicted value')\n",
    "plt.ylabel('true value')"
   ]
  },
  {
   "cell_type": "code",
   "execution_count": 8,
   "metadata": {},
   "outputs": [
    {
     "name": "stdout",
     "output_type": "stream",
     "text": [
      "[*] inner_vs_outer_cv running...\n",
      "Average difference of -0.000293 with std. dev. of 0.000000.\n"
     ]
    },
    {
     "data": {
      "image/png": "[encoded data removed]",
      "text/plain": [
       "<Figure size 432x288 with 2 Axes>"
      ]
     },
     "metadata": {},
     "output_type": "display_data"
    },
    {
     "name": "stdout",
     "output_type": "stream",
     "text": [
      "[*] inner_vs_outer_cv done.\n"
     ]
    }
   ],
   "source": [
    "param_grid = {\n",
    "    'penalty': ['l2'],                                # ['l1', 'l2', 'elastic', 'none'],\n",
    "    # 'multi_class': ['multinomial', 'ovr'],\n",
    "    'C': [0.001, 0.01, 0.1, 1.0],\n",
    "    'solver':['newton-cg', 'lbfgs', 'sag', 'saga',],  # ['newton-cg', 'lbfgs', 'liblinear', 'sag', 'saga',],\n",
    "}\n",
    "\n",
    "estimator = LogisticRegression()\n",
    "\n",
    "assert inner_vs_outer_cv is not None, 'inner_vs_outer_cv is None'\n",
    "\n",
    "inner_vs_outer_cv( \n",
    "    estimator=estimator,\n",
    "    Xtrain=Xtrain, ytrain=ytrain,\n",
    "    param_grid=param_grid,\n",
    "    Xtest=Xtest, ytest=ytest,\n",
    "    num_trials=NUM_TRIALS,\n",
    "    random_state=RANDOM_STATE,\n",
    "    n_splits_i=3,\n",
    "    n_splits_o=3,\n",
    "    verbose=0\n",
    ")"
   ]
  },
  {
   "cell_type": "code",
   "execution_count": 9,
   "metadata": {},
   "outputs": [
    {
     "name": "stdout",
     "output_type": "stream",
     "text": [
      "[*] inner_vs_outer_cv running...\n",
      "Average difference of 0.018937 with std. dev. of 0.000000.\n"
     ]
    },
    {
     "data": {
      "image/png": "[encoded data removed]",
      "text/plain": [
       "<Figure size 432x288 with 2 Axes>"
      ]
     },
     "metadata": {},
     "output_type": "display_data"
    },
    {
     "name": "stdout",
     "output_type": "stream",
     "text": [
      "[*] inner_vs_outer_cv done.\n"
     ]
    }
   ],
   "source": [
    "param_grid = {\n",
    " 'n_neighbors' : [1,2,3,5,7,9,10,20]\n",
    "}\n",
    "\n",
    "estimator = KNeighborsClassifier()\n",
    "\n",
    "assert inner_vs_outer_cv is not None, 'inner_vs_outer_cv is None'\n",
    "\n",
    "inner_vs_outer_cv( \n",
    "    estimator=estimator,\n",
    "    Xtrain=Xtrain, ytrain=ytrain,\n",
    "    param_grid=param_grid,\n",
    "    Xtest=Xtest, ytest=ytest,\n",
    "    num_trials=NUM_TRIALS,\n",
    "    random_state=RANDOM_STATE,\n",
    "    n_splits_i=3,\n",
    "    n_splits_o=3,\n",
    "    verbose=0\n",
    ")"
   ]
  },
  {
   "cell_type": "markdown",
   "metadata": {},
   "source": [
    "- (GridSearchCV) https://scikit-learn.org/stable/modules/generated/sklearn.model_selection.GridSearchCV.html\n",
    "- (train_test_split) https://scikit-learn.org/stable/modules/generated/sklearn.model_selection.train_test_split.html?highlight=train_test_split#sklearn.model_selection.train_test_split\n",
    "- (Nested versus non-nested cross-validation) https://scikit-learn.org/stable/auto_examples/model_selection/plot_nested_cross_validation_iris.html#sphx-glr-auto-examples-model-selection-plot-nested-cross-validation-iris-py\n",
    "- (mixture) https://scikit-learn.org/stable/modules/mixture.html#gmm"
   ]
  },
  {
   "cell_type": "code",
   "execution_count": null,
   "metadata": {},
   "outputs": [],
   "source": []
  }
 ],
 "metadata": {
  "kernelspec": {
   "display_name": "Python 3",
   "language": "python",
   "name": "python3"
  },
  "language_info": {
   "codemirror_mode": {
    "name": "ipython",
    "version": 3
   },
   "file_extension": ".py",
   "mimetype": "text/x-python",
   "name": "python",
   "nbconvert_exporter": "python",
   "pygments_lexer": "ipython3",
   "version": "3.7.3"
  }
 },
 "nbformat": 4,
 "nbformat_minor": 2
}
